{
 "cells": [
  {
   "cell_type": "markdown",
   "metadata": {},
   "source": [
    "# Rendimiento del combustible en autos comerciales.\n",
    "\n",
    "Realizaremos un análisis de diferentes vehículos para poder realizar inferencias sobre su rendimiento de combustible, específicamente la cantidad de millas que pueden recorrer por galón de gasolina, además de las inferencias buscamos realizar un modelo que sea capaz de predecir con cierta certeza la cantidad de millas que recorre un auto con conocer cierta información de este.\n",
    "\n",
    "Para realizar dicho estudio obtuvimos información del [UCI Machine Learning Repository](https://archive.ics.uci.edu/) específicamente de [Auto MPG](https://archive.ics.uci.edu/dataset/9/auto+mpg) de un estudio de Quinlan, R. (1993).\n",
    "\n",
    "Dicha información cuenta con las siguientes variables:\n",
    "\n",
    "MPG: Miles per galon, millas por galón, nuestra variable de interés.    \n",
    "Cylinders: La cantidad de cilindros del auto.   \n",
    "Displacement: Volumen total de aire y combustible que un auto puede desplazar en un ciclo de combustión.   \n",
    "Horsepower: Caballos de fuerza, es una medida de potencia.   \n",
    "Weight: Peso en libras.   \n",
    "Acceleration: Aceleración.     \n",
    "Model year: Año del modelo de auto.   \n",
    "Origin: País de origen del auto. 1: America, 2: Europa, 3: Asia   \n",
    "Car Name: Modelo del auto.   \n",
    "\n",
    "Creo que esta información tiene potencial para generar una regresión lineal ya que cuenta con datos en su mayoría cuantitativos y cualitativos que sospecho están estrechamente relacionados con el rendimiento de combustible. Un análisis pre eliminar al observar ciertas variables me di cuenta de que un modelo lineal o cuadrático podrían describir el comportamiento.  \n",
    "\n",
    "La base de datos tenía algunos valores de la variable de interés como NaN, se eliminaron esas filas ya que considero que cualquier manera de conseguir ese valor añadiría incertidumbre a nuestro modelo. Estaríamos construyendo nuestro modelo en terreno que no es firme.\n",
    "\n",
    "\n"
   ]
  },
  {
   "cell_type": "code",
   "execution_count": 1,
   "metadata": {},
   "outputs": [
    {
     "data": {
      "text/html": [
       "<div>\n",
       "<style scoped>\n",
       "    .dataframe tbody tr th:only-of-type {\n",
       "        vertical-align: middle;\n",
       "    }\n",
       "\n",
       "    .dataframe tbody tr th {\n",
       "        vertical-align: top;\n",
       "    }\n",
       "\n",
       "    .dataframe thead th {\n",
       "        text-align: right;\n",
       "    }\n",
       "</style>\n",
       "<table border=\"1\" class=\"dataframe\">\n",
       "  <thead>\n",
       "    <tr style=\"text-align: right;\">\n",
       "      <th></th>\n",
       "      <th>MPG</th>\n",
       "      <th>Cylinders</th>\n",
       "      <th>Displacement</th>\n",
       "      <th>Horsepower</th>\n",
       "      <th>Weight</th>\n",
       "      <th>Acceleration</th>\n",
       "      <th>Model_year</th>\n",
       "      <th>Origin</th>\n",
       "      <th>Car name</th>\n",
       "    </tr>\n",
       "  </thead>\n",
       "  <tbody>\n",
       "    <tr>\n",
       "      <th>0</th>\n",
       "      <td>15.0</td>\n",
       "      <td>8.0</td>\n",
       "      <td>350.0</td>\n",
       "      <td>165.0</td>\n",
       "      <td>3693.0</td>\n",
       "      <td>11.5</td>\n",
       "      <td>70.0</td>\n",
       "      <td>1.0</td>\n",
       "      <td>buick skylark 320</td>\n",
       "    </tr>\n",
       "    <tr>\n",
       "      <th>1</th>\n",
       "      <td>18.0</td>\n",
       "      <td>8.0</td>\n",
       "      <td>318.0</td>\n",
       "      <td>150.0</td>\n",
       "      <td>3436.0</td>\n",
       "      <td>11.0</td>\n",
       "      <td>70.0</td>\n",
       "      <td>1.0</td>\n",
       "      <td>plymouth satellite</td>\n",
       "    </tr>\n",
       "    <tr>\n",
       "      <th>2</th>\n",
       "      <td>16.0</td>\n",
       "      <td>8.0</td>\n",
       "      <td>304.0</td>\n",
       "      <td>150.0</td>\n",
       "      <td>3433.0</td>\n",
       "      <td>12.0</td>\n",
       "      <td>70.0</td>\n",
       "      <td>1.0</td>\n",
       "      <td>amc rebel sst</td>\n",
       "    </tr>\n",
       "  </tbody>\n",
       "</table>\n",
       "</div>"
      ],
      "text/plain": [
       "    MPG  Cylinders  Displacement  Horsepower  Weight  Acceleration  \\\n",
       "0  15.0        8.0         350.0       165.0  3693.0          11.5   \n",
       "1  18.0        8.0         318.0       150.0  3436.0          11.0   \n",
       "2  16.0        8.0         304.0       150.0  3433.0          12.0   \n",
       "\n",
       "   Model_year  Origin            Car name  \n",
       "0        70.0     1.0   buick skylark 320  \n",
       "1        70.0     1.0  plymouth satellite  \n",
       "2        70.0     1.0       amc rebel sst  "
      ]
     },
     "metadata": {},
     "output_type": "display_data"
    },
    {
     "name": "stdout",
     "output_type": "stream",
     "text": [
      "\n",
      "Datos modificados:\n"
     ]
    },
    {
     "data": {
      "text/html": [
       "<div>\n",
       "<style scoped>\n",
       "    .dataframe tbody tr th:only-of-type {\n",
       "        vertical-align: middle;\n",
       "    }\n",
       "\n",
       "    .dataframe tbody tr th {\n",
       "        vertical-align: top;\n",
       "    }\n",
       "\n",
       "    .dataframe thead th {\n",
       "        text-align: right;\n",
       "    }\n",
       "</style>\n",
       "<table border=\"1\" class=\"dataframe\">\n",
       "  <thead>\n",
       "    <tr style=\"text-align: right;\">\n",
       "      <th></th>\n",
       "      <th>MPG</th>\n",
       "      <th>Cylinders</th>\n",
       "      <th>Displacement</th>\n",
       "      <th>Horsepower</th>\n",
       "      <th>Weight</th>\n",
       "      <th>Acceleration</th>\n",
       "      <th>Model_year</th>\n",
       "      <th>Origin</th>\n",
       "    </tr>\n",
       "  </thead>\n",
       "  <tbody>\n",
       "    <tr>\n",
       "      <th>0</th>\n",
       "      <td>15.0</td>\n",
       "      <td>8.0</td>\n",
       "      <td>350.0</td>\n",
       "      <td>165.0</td>\n",
       "      <td>3693.0</td>\n",
       "      <td>11.5</td>\n",
       "      <td>70.0</td>\n",
       "      <td>1.0</td>\n",
       "    </tr>\n",
       "    <tr>\n",
       "      <th>1</th>\n",
       "      <td>18.0</td>\n",
       "      <td>8.0</td>\n",
       "      <td>318.0</td>\n",
       "      <td>150.0</td>\n",
       "      <td>3436.0</td>\n",
       "      <td>11.0</td>\n",
       "      <td>70.0</td>\n",
       "      <td>1.0</td>\n",
       "    </tr>\n",
       "  </tbody>\n",
       "</table>\n",
       "</div>"
      ],
      "text/plain": [
       "    MPG  Cylinders  Displacement  Horsepower  Weight  Acceleration  \\\n",
       "0  15.0        8.0         350.0       165.0  3693.0          11.5   \n",
       "1  18.0        8.0         318.0       150.0  3436.0          11.0   \n",
       "\n",
       "   Model_year  Origin  \n",
       "0        70.0     1.0  \n",
       "1        70.0     1.0  "
      ]
     },
     "metadata": {},
     "output_type": "display_data"
    },
    {
     "name": "stdout",
     "output_type": "stream",
     "text": [
      "Cantidad de información: (397, 8)\n",
      "Cantidad de paises de origen Origin\n",
      "1.0    248\n",
      "3.0     79\n",
      "2.0     70\n",
      "Name: count, dtype: int64\n"
     ]
    }
   ],
   "source": [
    "import pandas as pd\n",
    "\n",
    "# Abrimos la base de datos.\n",
    "df = pd.read_csv(\"auto-mpg.data-original\",  sep='\\s+')\n",
    "\n",
    "# Asignamos nombres a las columnas\n",
    "df.columns = [\"MPG\", \"Cylinders\", \"Displacement\", \"Horsepower\", \"Weight\", \"Acceleration\", \"Model_year\", \"Origin\", \"Car name\"]\n",
    "\n",
    "# Imprimimos la base de datos para visualizar nuestra información\n",
    "display(df.head(3))\n",
    "\n",
    "#Tiramos el nombre del modelo ya que es unico por cada auto y no nos aportara informacion relevante.\n",
    "df = df.drop(columns=[\"Car name\"])\n",
    "print(\"\\nDatos modificados:\")\n",
    "display(df.head(2))\n",
    "\n",
    "print(\"Cantidad de información:\",df.shape)\n",
    "\n",
    "print(\"Cantidad de paises de origen\", pd.Series(df[\"Origin\"].value_counts()))\n"
   ]
  },
  {
   "cell_type": "markdown",
   "metadata": {},
   "source": [
    "Podemos observar que por el momento contamos con 397 observaciones y 8 variables para poder realizar nuestro análisis.    \n",
    "  \n",
    "  \n",
    "Al observar la base de datos nos damos cuenta de que una de las variables, la de origen es una variable categórica, tendremos que hacer un procedimiento conocido como one hot encoding que consiste en crear variables dummies para que la información pueda utilizarse en una regresión. Dicha variable categórica contiene 248 datos del origen 1 (América), 79 datos del origen 3 (Asia) y 70 del origen 2 (Europa).\n"
   ]
  },
  {
   "cell_type": "code",
   "execution_count": 2,
   "metadata": {},
   "outputs": [
    {
     "data": {
      "text/html": [
       "<div>\n",
       "<style scoped>\n",
       "    .dataframe tbody tr th:only-of-type {\n",
       "        vertical-align: middle;\n",
       "    }\n",
       "\n",
       "    .dataframe tbody tr th {\n",
       "        vertical-align: top;\n",
       "    }\n",
       "\n",
       "    .dataframe thead th {\n",
       "        text-align: right;\n",
       "    }\n",
       "</style>\n",
       "<table border=\"1\" class=\"dataframe\">\n",
       "  <thead>\n",
       "    <tr style=\"text-align: right;\">\n",
       "      <th></th>\n",
       "      <th>MPG</th>\n",
       "      <th>Cylinders</th>\n",
       "      <th>Displacement</th>\n",
       "      <th>Horsepower</th>\n",
       "      <th>Weight</th>\n",
       "      <th>Acceleration</th>\n",
       "      <th>Model_year</th>\n",
       "      <th>2.0</th>\n",
       "      <th>3.0</th>\n",
       "    </tr>\n",
       "  </thead>\n",
       "  <tbody>\n",
       "    <tr>\n",
       "      <th>0</th>\n",
       "      <td>15.0</td>\n",
       "      <td>8.0</td>\n",
       "      <td>350.0</td>\n",
       "      <td>165.0</td>\n",
       "      <td>3693.0</td>\n",
       "      <td>11.5</td>\n",
       "      <td>70.0</td>\n",
       "      <td>0</td>\n",
       "      <td>0</td>\n",
       "    </tr>\n",
       "    <tr>\n",
       "      <th>1</th>\n",
       "      <td>18.0</td>\n",
       "      <td>8.0</td>\n",
       "      <td>318.0</td>\n",
       "      <td>150.0</td>\n",
       "      <td>3436.0</td>\n",
       "      <td>11.0</td>\n",
       "      <td>70.0</td>\n",
       "      <td>0</td>\n",
       "      <td>0</td>\n",
       "    </tr>\n",
       "    <tr>\n",
       "      <th>2</th>\n",
       "      <td>16.0</td>\n",
       "      <td>8.0</td>\n",
       "      <td>304.0</td>\n",
       "      <td>150.0</td>\n",
       "      <td>3433.0</td>\n",
       "      <td>12.0</td>\n",
       "      <td>70.0</td>\n",
       "      <td>0</td>\n",
       "      <td>0</td>\n",
       "    </tr>\n",
       "  </tbody>\n",
       "</table>\n",
       "</div>"
      ],
      "text/plain": [
       "    MPG  Cylinders  Displacement  Horsepower  Weight  Acceleration  \\\n",
       "0  15.0        8.0         350.0       165.0  3693.0          11.5   \n",
       "1  18.0        8.0         318.0       150.0  3436.0          11.0   \n",
       "2  16.0        8.0         304.0       150.0  3433.0          12.0   \n",
       "\n",
       "   Model_year  2.0  3.0  \n",
       "0        70.0    0    0  \n",
       "1        70.0    0    0  \n",
       "2        70.0    0    0  "
      ]
     },
     "metadata": {},
     "output_type": "display_data"
    }
   ],
   "source": [
    "# Crear variable dummy\n",
    "dummyOrigin = pd.get_dummies(df.Origin,drop_first=True).astype(int)\n",
    "# Concatenar la variable dummy al data frame\n",
    "df = pd.concat([df,dummyOrigin], axis = 1)\n",
    "# Eliminar la variable Origin del data frame\n",
    "df = df.drop(\"Origin\", axis = 1)\n",
    "# Imprimir las primeras 3 observaciones\n",
    "display(df.head(3))"
   ]
  },
  {
   "cell_type": "markdown",
   "metadata": {},
   "source": [
    "Podemos observar que las variables se crearon correctamente, es importante observar que ya no existe la variable origin y tampoco existe la etiqueta 1 esto es normal ya que se asume como lo \"Normal\" y es para evitar colinealidad, vamos a renombrar las etiquetas para poder trabajar de mejor forma."
   ]
  },
  {
   "cell_type": "code",
   "execution_count": 3,
   "metadata": {},
   "outputs": [
    {
     "name": "stdout",
     "output_type": "stream",
     "text": [
      "Cantidad de variables: 9\n"
     ]
    },
    {
     "data": {
      "text/html": [
       "<div>\n",
       "<style scoped>\n",
       "    .dataframe tbody tr th:only-of-type {\n",
       "        vertical-align: middle;\n",
       "    }\n",
       "\n",
       "    .dataframe tbody tr th {\n",
       "        vertical-align: top;\n",
       "    }\n",
       "\n",
       "    .dataframe thead th {\n",
       "        text-align: right;\n",
       "    }\n",
       "</style>\n",
       "<table border=\"1\" class=\"dataframe\">\n",
       "  <thead>\n",
       "    <tr style=\"text-align: right;\">\n",
       "      <th></th>\n",
       "      <th>MPG</th>\n",
       "      <th>Cylinders</th>\n",
       "      <th>Displacement</th>\n",
       "      <th>Horsepower</th>\n",
       "      <th>Weight</th>\n",
       "      <th>Acceleration</th>\n",
       "      <th>Model_year</th>\n",
       "      <th>Europa</th>\n",
       "      <th>Asia</th>\n",
       "    </tr>\n",
       "  </thead>\n",
       "  <tbody>\n",
       "    <tr>\n",
       "      <th>0</th>\n",
       "      <td>15.0</td>\n",
       "      <td>8.0</td>\n",
       "      <td>350.0</td>\n",
       "      <td>165.0</td>\n",
       "      <td>3693.0</td>\n",
       "      <td>11.5</td>\n",
       "      <td>70.0</td>\n",
       "      <td>0</td>\n",
       "      <td>0</td>\n",
       "    </tr>\n",
       "    <tr>\n",
       "      <th>1</th>\n",
       "      <td>18.0</td>\n",
       "      <td>8.0</td>\n",
       "      <td>318.0</td>\n",
       "      <td>150.0</td>\n",
       "      <td>3436.0</td>\n",
       "      <td>11.0</td>\n",
       "      <td>70.0</td>\n",
       "      <td>0</td>\n",
       "      <td>0</td>\n",
       "    </tr>\n",
       "    <tr>\n",
       "      <th>2</th>\n",
       "      <td>16.0</td>\n",
       "      <td>8.0</td>\n",
       "      <td>304.0</td>\n",
       "      <td>150.0</td>\n",
       "      <td>3433.0</td>\n",
       "      <td>12.0</td>\n",
       "      <td>70.0</td>\n",
       "      <td>0</td>\n",
       "      <td>0</td>\n",
       "    </tr>\n",
       "    <tr>\n",
       "      <th>3</th>\n",
       "      <td>17.0</td>\n",
       "      <td>8.0</td>\n",
       "      <td>302.0</td>\n",
       "      <td>140.0</td>\n",
       "      <td>3449.0</td>\n",
       "      <td>10.5</td>\n",
       "      <td>70.0</td>\n",
       "      <td>0</td>\n",
       "      <td>0</td>\n",
       "    </tr>\n",
       "    <tr>\n",
       "      <th>4</th>\n",
       "      <td>15.0</td>\n",
       "      <td>8.0</td>\n",
       "      <td>429.0</td>\n",
       "      <td>198.0</td>\n",
       "      <td>4341.0</td>\n",
       "      <td>10.0</td>\n",
       "      <td>70.0</td>\n",
       "      <td>0</td>\n",
       "      <td>0</td>\n",
       "    </tr>\n",
       "  </tbody>\n",
       "</table>\n",
       "</div>"
      ],
      "text/plain": [
       "    MPG  Cylinders  Displacement  Horsepower  Weight  Acceleration  \\\n",
       "0  15.0        8.0         350.0       165.0  3693.0          11.5   \n",
       "1  18.0        8.0         318.0       150.0  3436.0          11.0   \n",
       "2  16.0        8.0         304.0       150.0  3433.0          12.0   \n",
       "3  17.0        8.0         302.0       140.0  3449.0          10.5   \n",
       "4  15.0        8.0         429.0       198.0  4341.0          10.0   \n",
       "\n",
       "   Model_year  Europa  Asia  \n",
       "0        70.0       0     0  \n",
       "1        70.0       0     0  \n",
       "2        70.0       0     0  \n",
       "3        70.0       0     0  \n",
       "4        70.0       0     0  "
      ]
     },
     "metadata": {},
     "output_type": "display_data"
    },
    {
     "name": "stdout",
     "output_type": "stream",
     "text": [
      "MPG             float64\n",
      "Cylinders       float64\n",
      "Displacement    float64\n",
      "Horsepower      float64\n",
      "Weight          float64\n",
      "Acceleration    float64\n",
      "Model_year      float64\n",
      "Europa            int64\n",
      "Asia              int64\n",
      "dtype: object\n"
     ]
    }
   ],
   "source": [
    "df = df.rename(columns={2.0:\"Europa\"})\n",
    "df = df.rename(columns={3.0:\"Asia\"})\n",
    "\n",
    "\n",
    "print(\"Cantidad de variables:\", df.shape[1])\n",
    "\n",
    "display(df.head())\n",
    "\n",
    "#Diferentes tipos de datos del df\n",
    "print(df.dtypes)\n"
   ]
  },
  {
   "cell_type": "markdown",
   "metadata": {},
   "source": [
    "Como podemos observar ya está configurado nuestro data set y ahora tenemos más variables que antes, gracias al one hot encoding.\n",
    "    \n",
    "Ahora vamos a realizar el método de Tukey para detectar valores atípicos."
   ]
  },
  {
   "cell_type": "code",
   "execution_count": 4,
   "metadata": {},
   "outputs": [],
   "source": [
    "import numpy as np\n",
    "\n",
    "# Seleccionar solo las columnas numéricas\n",
    "numerical_cols = df.select_dtypes(include=[\"float64\"]).columns\n",
    "\n",
    "# Crear un diccionario para almacenar los outliers de cada variable\n",
    "outliers_dict = {}\n",
    "\n",
    "# Calcular outliers para cada columna numérica\n",
    "for col in numerical_cols:\n",
    "    q1 = df[col].quantile(0.25)  # Cuartil 1\n",
    "    q3 = df[col].quantile(0.75)  # Cuartil 3\n",
    "    iqr = q3 - q1  # Rango intercuartil\n",
    "    li = q1 - (3 * iqr)  # Límite inferior\n",
    "    ls = q3 + (3 * iqr)  # Límite superior\n",
    "    \n",
    "    # Identificar los índices de los outliers\n",
    "    outliers = np.where((df[col] <= li) | (df[col] >= ls))[0]\n",
    "    \n",
    "    # Guardar en el diccionario si hay outliers\n",
    "    if len(outliers) > 0:\n",
    "        outliers_dict[col] = df.iloc[outliers]\n",
    "\n",
    "# Imprimir resultados\n",
    "for col, outliers in outliers_dict.items():\n",
    "    print(f\"\\nOutliers en la columna: {col}\")\n",
    "    print(outliers)"
   ]
  },
  {
   "cell_type": "markdown",
   "metadata": {},
   "source": [
    "Al realizar el análisis de Tukey nos damos cuenta de que en ninguna de las variables numéricas existe algún dato atípico, nos damos cuenta ya que nuestro código no imprime ningún valor, el código anterior está diseñado para imprimir los valores atípicos, en caso de que no existan, no imprime nada.   \n",
    "    \n",
    "Ahora vamos a realizar un mapa de calor en el cual se muestra la correlación de Pearson entre las variables para poder evitar que exista colinealidad entre las variables, vamos a observar si ocurre este fenómeno en dicho mapa y en caso de que lo haga tomar una decisión al respecto.   \n"
   ]
  },
  {
   "cell_type": "code",
   "execution_count": 5,
   "metadata": {},
   "outputs": [
    {
     "name": "stdout",
     "output_type": "stream",
     "text": [
      "Mayor correlación entre: Cylinders y Displacement\n",
      "Valor de la correlación: 0.9507183222728156\n"
     ]
    },
    {
     "data": {
      "image/png": "[encoded data removed]",
      "text/plain": [
       "<Figure size 1000x800 with 2 Axes>"
      ]
     },
     "metadata": {},
     "output_type": "display_data"
    }
   ],
   "source": [
    "import seaborn as sns\n",
    "import matplotlib.pyplot as plt\n",
    "%matplotlib inline\n",
    "\n",
    "# Calcular la matriz de correlación con nombres de columnas\n",
    "cor = df.corr().abs()  # Usar df.corr() para mantener los nombres de las columnas\n",
    "\n",
    "# Llenar la diagonal con ceros para evitar autovalores de 1\n",
    "np.fill_diagonal(cor.values, 0)\n",
    "\n",
    "# Obtener los índices (i, j) de la correlación máxima\n",
    "i, j = np.unravel_index(cor.values.argmax(), cor.shape)\n",
    "\n",
    "# Imprimir los nombres de las variables con mayor correlación\n",
    "print(f\"Mayor correlación entre: {df.columns[i]} y {df.columns[j]}\")\n",
    "print(f\"Valor de la correlación: {cor.iloc[i, j]}\")\n",
    "\n",
    "# Graficar el heatmap con nombres de variables\n",
    "plt.figure(figsize=(10, 8))\n",
    "sns.heatmap(cor, annot=True, fmt=\".2f\", cmap=\"coolwarm\", xticklabels=df.columns, yticklabels=df.columns)\n",
    "plt.title(\"Mapa de Calor de Correlación entre Variables\")\n",
    "plt.show()"
   ]
  },
  {
   "cell_type": "markdown",
   "metadata": {},
   "source": [
    "Podemos observar que existe una correlación del 95% entre las variables de cilindros y desplazamiento, algo de esperarse ya que el segundo aumenta con la cantidad de cilindros, por lo cual eliminaremos alguna de las dos variables para evitar entorpecer el modelo por colinealidad, conservaremos desplazamiento porque es la que mayor correlación tiene con nuestra variable de interés.      \n",
    "     \n",
    "Otra variable relacionada es el peso con el desplazamiento y aunque podría sonar lógico, más peso más volumen de combustible necesario, no necesariamente están relacionados, por lo cual, aunque su relación es alta conservare ambas.    \n",
    "     \n",
    "También existe una alta relación entre los caballos de fuerza y el desplazamiento, eliminaremos los caballos de fuerza debido a que creo que, si es relevante su relación, si hay más desplazamiento es natural que haya más caballos de fuerza, conservare desplazamiento ya que se relaciona más con la variable de interés.     \n",
    "     \n",
    "Además de esto añadiré una interacción entre desplazamiento y peso, además de una de peso-aceleración, ya que creo que pueden ser relevantes.\n"
   ]
  },
  {
   "cell_type": "code",
   "execution_count": 6,
   "metadata": {},
   "outputs": [
    {
     "data": {
      "text/html": [
       "<div>\n",
       "<style scoped>\n",
       "    .dataframe tbody tr th:only-of-type {\n",
       "        vertical-align: middle;\n",
       "    }\n",
       "\n",
       "    .dataframe tbody tr th {\n",
       "        vertical-align: top;\n",
       "    }\n",
       "\n",
       "    .dataframe thead th {\n",
       "        text-align: right;\n",
       "    }\n",
       "</style>\n",
       "<table border=\"1\" class=\"dataframe\">\n",
       "  <thead>\n",
       "    <tr style=\"text-align: right;\">\n",
       "      <th></th>\n",
       "      <th>MPG</th>\n",
       "      <th>Displacement</th>\n",
       "      <th>Weight</th>\n",
       "      <th>Acceleration</th>\n",
       "      <th>Model_year</th>\n",
       "      <th>Europa</th>\n",
       "      <th>Asia</th>\n",
       "    </tr>\n",
       "  </thead>\n",
       "  <tbody>\n",
       "    <tr>\n",
       "      <th>0</th>\n",
       "      <td>15.0</td>\n",
       "      <td>350.0</td>\n",
       "      <td>3693.0</td>\n",
       "      <td>11.5</td>\n",
       "      <td>70.0</td>\n",
       "      <td>0</td>\n",
       "      <td>0</td>\n",
       "    </tr>\n",
       "    <tr>\n",
       "      <th>1</th>\n",
       "      <td>18.0</td>\n",
       "      <td>318.0</td>\n",
       "      <td>3436.0</td>\n",
       "      <td>11.0</td>\n",
       "      <td>70.0</td>\n",
       "      <td>0</td>\n",
       "      <td>0</td>\n",
       "    </tr>\n",
       "    <tr>\n",
       "      <th>2</th>\n",
       "      <td>16.0</td>\n",
       "      <td>304.0</td>\n",
       "      <td>3433.0</td>\n",
       "      <td>12.0</td>\n",
       "      <td>70.0</td>\n",
       "      <td>0</td>\n",
       "      <td>0</td>\n",
       "    </tr>\n",
       "  </tbody>\n",
       "</table>\n",
       "</div>"
      ],
      "text/plain": [
       "    MPG  Displacement  Weight  Acceleration  Model_year  Europa  Asia\n",
       "0  15.0         350.0  3693.0          11.5        70.0       0     0\n",
       "1  18.0         318.0  3436.0          11.0        70.0       0     0\n",
       "2  16.0         304.0  3433.0          12.0        70.0       0     0"
      ]
     },
     "metadata": {},
     "output_type": "display_data"
    },
    {
     "name": "stdout",
     "output_type": "stream",
     "text": [
      "     Displacement  Weight  Acceleration  Model_year  Europa  Asia\n",
      "351          98.0  2380.0          20.7        81.0       0     0\n",
      "203          85.0  1990.0          17.0        76.0       0     1\n",
      "188         304.0  3962.0          13.9        76.0       0     0\n",
      "366         112.0  2605.0          19.6        82.0       0     0\n",
      "46          250.0  3282.0          15.0        71.0       0     0\n",
      "..            ...     ...           ...         ...     ...   ...\n",
      "237          98.0  2075.0          15.9        77.0       0     0\n",
      "31           98.0  2046.0          19.0        71.0       0     0\n",
      "40          318.0  4096.0          13.0        71.0       0     0\n",
      "230         400.0  4325.0          12.2        77.0       0     0\n",
      "83           97.0  2100.0          16.5        72.0       0     1\n",
      "\n",
      "[317 rows x 6 columns]\n",
      "351    29.9\n",
      "203    32.0\n",
      "188    15.5\n",
      "366    28.0\n",
      "46     19.0\n",
      "       ... \n",
      "237    33.5\n",
      "31     25.0\n",
      "40     14.0\n",
      "230    15.5\n",
      "83     27.0\n",
      "Name: MPG, Length: 317, dtype: float64\n"
     ]
    }
   ],
   "source": [
    "# Dejamos las variables con colinearidad\n",
    "df = df.drop(columns=\"Cylinders\")\n",
    "df = df.drop(columns=\"Horsepower\")\n",
    "\n",
    "display(df.head(3))\n",
    "\n",
    "from sklearn.model_selection import train_test_split\n",
    "\n",
    "# Partimos los datos en entrenamiento y prueba 80-20\n",
    "x_train, x_test, y_train, y_test = train_test_split(df.drop(columns=\"MPG\"), df.MPG, train_size=0.8, random_state=23)\n",
    "print(x_train)\n",
    "print(y_train)"
   ]
  },
  {
   "cell_type": "code",
   "execution_count": 7,
   "metadata": {},
   "outputs": [
    {
     "data": {
      "text/html": [
       "<div>\n",
       "<style scoped>\n",
       "    .dataframe tbody tr th:only-of-type {\n",
       "        vertical-align: middle;\n",
       "    }\n",
       "\n",
       "    .dataframe tbody tr th {\n",
       "        vertical-align: top;\n",
       "    }\n",
       "\n",
       "    .dataframe thead th {\n",
       "        text-align: right;\n",
       "    }\n",
       "</style>\n",
       "<table border=\"1\" class=\"dataframe\">\n",
       "  <thead>\n",
       "    <tr style=\"text-align: right;\">\n",
       "      <th></th>\n",
       "      <th>Displacement</th>\n",
       "      <th>Weight</th>\n",
       "      <th>Displacement_Weight</th>\n",
       "      <th>Acceleration</th>\n",
       "      <th>Acceleration_Weight</th>\n",
       "      <th>Model_year</th>\n",
       "      <th>Europa</th>\n",
       "      <th>Asia</th>\n",
       "    </tr>\n",
       "  </thead>\n",
       "  <tbody>\n",
       "    <tr>\n",
       "      <th>351</th>\n",
       "      <td>98.0</td>\n",
       "      <td>2380.0</td>\n",
       "      <td>233240.0</td>\n",
       "      <td>20.7</td>\n",
       "      <td>49266.0</td>\n",
       "      <td>81.0</td>\n",
       "      <td>0</td>\n",
       "      <td>0</td>\n",
       "    </tr>\n",
       "    <tr>\n",
       "      <th>203</th>\n",
       "      <td>85.0</td>\n",
       "      <td>1990.0</td>\n",
       "      <td>169150.0</td>\n",
       "      <td>17.0</td>\n",
       "      <td>33830.0</td>\n",
       "      <td>76.0</td>\n",
       "      <td>0</td>\n",
       "      <td>1</td>\n",
       "    </tr>\n",
       "    <tr>\n",
       "      <th>188</th>\n",
       "      <td>304.0</td>\n",
       "      <td>3962.0</td>\n",
       "      <td>1204448.0</td>\n",
       "      <td>13.9</td>\n",
       "      <td>55071.8</td>\n",
       "      <td>76.0</td>\n",
       "      <td>0</td>\n",
       "      <td>0</td>\n",
       "    </tr>\n",
       "    <tr>\n",
       "      <th>366</th>\n",
       "      <td>112.0</td>\n",
       "      <td>2605.0</td>\n",
       "      <td>291760.0</td>\n",
       "      <td>19.6</td>\n",
       "      <td>51058.0</td>\n",
       "      <td>82.0</td>\n",
       "      <td>0</td>\n",
       "      <td>0</td>\n",
       "    </tr>\n",
       "    <tr>\n",
       "      <th>46</th>\n",
       "      <td>250.0</td>\n",
       "      <td>3282.0</td>\n",
       "      <td>820500.0</td>\n",
       "      <td>15.0</td>\n",
       "      <td>49230.0</td>\n",
       "      <td>71.0</td>\n",
       "      <td>0</td>\n",
       "      <td>0</td>\n",
       "    </tr>\n",
       "  </tbody>\n",
       "</table>\n",
       "</div>"
      ],
      "text/plain": [
       "     Displacement  Weight  Displacement_Weight  Acceleration  \\\n",
       "351          98.0  2380.0             233240.0          20.7   \n",
       "203          85.0  1990.0             169150.0          17.0   \n",
       "188         304.0  3962.0            1204448.0          13.9   \n",
       "366         112.0  2605.0             291760.0          19.6   \n",
       "46          250.0  3282.0             820500.0          15.0   \n",
       "\n",
       "     Acceleration_Weight  Model_year  Europa  Asia  \n",
       "351              49266.0        81.0       0     0  \n",
       "203              33830.0        76.0       0     1  \n",
       "188              55071.8        76.0       0     0  \n",
       "366              51058.0        82.0       0     0  \n",
       "46               49230.0        71.0       0     0  "
      ]
     },
     "metadata": {},
     "output_type": "display_data"
    },
    {
     "data": {
      "text/html": [
       "<div>\n",
       "<style scoped>\n",
       "    .dataframe tbody tr th:only-of-type {\n",
       "        vertical-align: middle;\n",
       "    }\n",
       "\n",
       "    .dataframe tbody tr th {\n",
       "        vertical-align: top;\n",
       "    }\n",
       "\n",
       "    .dataframe thead th {\n",
       "        text-align: right;\n",
       "    }\n",
       "</style>\n",
       "<table border=\"1\" class=\"dataframe\">\n",
       "  <thead>\n",
       "    <tr style=\"text-align: right;\">\n",
       "      <th></th>\n",
       "      <th>Displacement</th>\n",
       "      <th>Weight</th>\n",
       "      <th>Displacement_Weight</th>\n",
       "      <th>Acceleration</th>\n",
       "      <th>Acceleration_Weight</th>\n",
       "      <th>Model_year</th>\n",
       "      <th>Europa</th>\n",
       "      <th>Asia</th>\n",
       "    </tr>\n",
       "  </thead>\n",
       "  <tbody>\n",
       "    <tr>\n",
       "      <th>133</th>\n",
       "      <td>258.0</td>\n",
       "      <td>3632.0</td>\n",
       "      <td>937056.0</td>\n",
       "      <td>18.0</td>\n",
       "      <td>65376.0</td>\n",
       "      <td>74.0</td>\n",
       "      <td>0</td>\n",
       "      <td>0</td>\n",
       "    </tr>\n",
       "    <tr>\n",
       "      <th>298</th>\n",
       "      <td>141.0</td>\n",
       "      <td>3190.0</td>\n",
       "      <td>449790.0</td>\n",
       "      <td>24.8</td>\n",
       "      <td>79112.0</td>\n",
       "      <td>79.0</td>\n",
       "      <td>1</td>\n",
       "      <td>0</td>\n",
       "    </tr>\n",
       "    <tr>\n",
       "      <th>167</th>\n",
       "      <td>140.0</td>\n",
       "      <td>2639.0</td>\n",
       "      <td>369460.0</td>\n",
       "      <td>17.0</td>\n",
       "      <td>44863.0</td>\n",
       "      <td>75.0</td>\n",
       "      <td>0</td>\n",
       "      <td>0</td>\n",
       "    </tr>\n",
       "    <tr>\n",
       "      <th>333</th>\n",
       "      <td>70.0</td>\n",
       "      <td>2420.0</td>\n",
       "      <td>169400.0</td>\n",
       "      <td>12.5</td>\n",
       "      <td>30250.0</td>\n",
       "      <td>80.0</td>\n",
       "      <td>0</td>\n",
       "      <td>1</td>\n",
       "    </tr>\n",
       "    <tr>\n",
       "      <th>239</th>\n",
       "      <td>97.0</td>\n",
       "      <td>2190.0</td>\n",
       "      <td>212430.0</td>\n",
       "      <td>14.1</td>\n",
       "      <td>30879.0</td>\n",
       "      <td>77.0</td>\n",
       "      <td>1</td>\n",
       "      <td>0</td>\n",
       "    </tr>\n",
       "  </tbody>\n",
       "</table>\n",
       "</div>"
      ],
      "text/plain": [
       "     Displacement  Weight  Displacement_Weight  Acceleration  \\\n",
       "133         258.0  3632.0             937056.0          18.0   \n",
       "298         141.0  3190.0             449790.0          24.8   \n",
       "167         140.0  2639.0             369460.0          17.0   \n",
       "333          70.0  2420.0             169400.0          12.5   \n",
       "239          97.0  2190.0             212430.0          14.1   \n",
       "\n",
       "     Acceleration_Weight  Model_year  Europa  Asia  \n",
       "133              65376.0        74.0       0     0  \n",
       "298              79112.0        79.0       1     0  \n",
       "167              44863.0        75.0       0     0  \n",
       "333              30250.0        80.0       0     1  \n",
       "239              30879.0        77.0       1     0  "
      ]
     },
     "metadata": {},
     "output_type": "display_data"
    }
   ],
   "source": [
    "#Agregamos las interacciones en el entrenamiento y la prueba\n",
    "x_train.insert(2,\"Displacement_Weight\", x_train.Displacement*x_train.Weight)\n",
    "x_train.insert(4,\"Acceleration_Weight\", x_train.Acceleration*x_train.Weight)\n",
    "\n",
    "x_test.insert(2,\"Displacement_Weight\", x_test.Displacement*x_test.Weight)\n",
    "x_test.insert(4,\"Acceleration_Weight\", x_test.Acceleration*x_test.Weight)\n",
    "\n",
    "# Imprimir primeras 5 observaciones de X_train\n",
    "display(x_train.head())\n",
    "# Imprimir primeras 5 observaciones de X_test\n",
    "display(x_test.head())"
   ]
  },
  {
   "cell_type": "markdown",
   "metadata": {},
   "source": [
    "Llevaremos a cabo una selección de características mixta, una hacia adelante y después una hacia atrás para poder tener más confianza y eficiencia en nuestros resultados. Es beneficioso tener un modelo con la menor cantidad de variables posible, beneficia a la interpretabilidad y para evitar el overfitting."
   ]
  },
  {
   "cell_type": "code",
   "execution_count": 8,
   "metadata": {},
   "outputs": [
    {
     "name": "stdout",
     "output_type": "stream",
     "text": [
      "Features(Variables selecionadas): \n",
      " ['Displacement', 'Weight', 'Displacement_Weight', 'Acceleration', 'Model_year', 'Europa', 'Asia']\n",
      "R^2 = 0.8507567994133431\n"
     ]
    }
   ],
   "source": [
    "from sklearn.linear_model import LinearRegression\n",
    "from mlxtend.feature_selection import SequentialFeatureSelector as SFS\n",
    "\n",
    "# Creamos el modelo de regresion lineal\n",
    "lr = LinearRegression()\n",
    "\n",
    "# Vaciamos las caracteristicas del modelo de sequential future selector\n",
    "sfs = SFS(lr, k_features= (2,8), forward=True, scoring= 'r2', cv = 10 )\n",
    "\n",
    "# Ejecutamos el selector \n",
    "sfs.fit(x_train,y_train)\n",
    "\n",
    "# Obtenemos los nombres e indices de las variables selecionadas\n",
    "featuresIndx = list(sfs.k_feature_idx_)\n",
    "features = list(sfs.k_feature_names_)\n",
    "print(\"Features(Variables selecionadas): \\n\", features)\n",
    "\n",
    "\n",
    "\n",
    "# Obtenemos R^2\n",
    "from sklearn.metrics import r2_score\n",
    "\n",
    "x_train_s1 = x_train[features]\n",
    "x_test_s1 = x_test[features]\n",
    "\n",
    "lr.fit(x_train_s1,y_train)\n",
    "\n",
    "yhat = lr.predict(x_test_s1)\n",
    "\n",
    "r2 = r2_score(y_test , yhat)\n",
    "\n",
    "print(\"R^2 =\", r2)\n",
    "\n"
   ]
  },
  {
   "cell_type": "markdown",
   "metadata": {},
   "source": [
    "Aquí obtuvimos una R^2 de 0.85, quiere decir que con las variables que obtuvimos de nuestra selección hacia adelante para una regresión lineal describe el 0.85% del comportamiento que buscamos explicar. Ahora compararemos con la selección mixta, es decir ahora hacia atrás y escogeremos un modelo."
   ]
  },
  {
   "cell_type": "code",
   "execution_count": 9,
   "metadata": {},
   "outputs": [
    {
     "name": "stdout",
     "output_type": "stream",
     "text": [
      "Features(Variables selecionadas): \n",
      " ['Displacement', 'Weight', 'Displacement_Weight', 'Acceleration', 'Model_year']\n",
      "R^2 de la selección mixta de características = 0.8507668467068836\n"
     ]
    }
   ],
   "source": [
    "#Creamos el modelo de regresion lineal\n",
    "lr1 = LinearRegression()\n",
    "\n",
    "# Vaciamos las caracteristicas del modelo de sequential future selector\n",
    "sfs1 = SFS(lr, k_features= (2,5), forward=False, scoring= 'r2', cv = 10 )\n",
    "\n",
    "# Ejecutamos el selector \n",
    "sfs1.fit(x_train_s1,y_train)\n",
    "\n",
    "# Obtenemos los nombres e indices de las variables selecionadas\n",
    "featuresIndx1 = list(sfs1.k_feature_idx_)\n",
    "features1 = list(sfs1.k_feature_names_)\n",
    "print(\"Features(Variables selecionadas): \\n\", features1)\n",
    "\n",
    "\n",
    "# Obtenemos R^2\n",
    "x_train_s2 = x_train[features1]\n",
    "x_test_s2 = x_test[features1]\n",
    "\n",
    "lr1.fit(x_train_s2,y_train)\n",
    "\n",
    "yhat1 = lr1.predict(x_test_s2)\n",
    "\n",
    "r2_mixto = r2_score(y_test,yhat1)\n",
    "\n",
    "print(\"R^2 de la selección mixta de características =\", r2_mixto)"
   ]
  },
  {
   "cell_type": "markdown",
   "metadata": {},
   "source": [
    "Escogeré como mejor modelo el modelo mixto ya que mantiene una R^2 bastante similar, pero reduce el número de variables, algo que le añade valor a nuestro modelo.\n",
    "\n",
    "Ahora entrenaremos un modelo de regresión lineal, uno múltiple, uno simple y uno cuadrático, escogimos esos modelos por observaciones a la gráfica de Displacement_Weight vs y_train. "
   ]
  },
  {
   "cell_type": "code",
   "execution_count": 10,
   "metadata": {},
   "outputs": [
    {
     "name": "stdout",
     "output_type": "stream",
     "text": [
      "                            OLS Regression Results                            \n",
      "==============================================================================\n",
      "Dep. Variable:                    MPG   R-squared:                       0.856\n",
      "Model:                            OLS   Adj. R-squared:                  0.853\n",
      "Method:                 Least Squares   F-statistic:                     368.4\n",
      "Date:                Wed, 19 Feb 2025   Prob (F-statistic):          2.58e-128\n",
      "Time:                        23:05:19   Log-Likelihood:                -796.47\n",
      "No. Observations:                 317   AIC:                             1605.\n",
      "Df Residuals:                     311   BIC:                             1627.\n",
      "Df Model:                           5                                         \n",
      "Covariance Type:            nonrobust                                         \n",
      "=======================================================================================\n",
      "                          coef    std err          t      P>|t|      [0.025      0.975]\n",
      "---------------------------------------------------------------------------------------\n",
      "const                  -9.6216      4.005     -2.402      0.017     -17.502      -1.741\n",
      "Displacement           -0.0769      0.009     -8.116      0.000      -0.096      -0.058\n",
      "Weight                 -0.0117      0.001    -15.447      0.000      -0.013      -0.010\n",
      "Displacement_Weight  2.402e-05    2.4e-06     10.018      0.000    1.93e-05    2.87e-05\n",
      "Acceleration            0.2297      0.079      2.920      0.004       0.075       0.384\n",
      "Model_year              0.8345      0.050     16.720      0.000       0.736       0.933\n",
      "==============================================================================\n",
      "Omnibus:                       42.740   Durbin-Watson:                   2.367\n",
      "Prob(Omnibus):                  0.000   Jarque-Bera (JB):               74.571\n",
      "Skew:                           0.774   Prob(JB):                     6.41e-17\n",
      "Kurtosis:                       4.802   Cond. No.                     1.93e+07\n",
      "==============================================================================\n",
      "\n",
      "Notes:\n",
      "[1] Standard Errors assume that the covariance matrix of the errors is correctly specified.\n",
      "[2] The condition number is large, 1.93e+07. This might indicate that there are\n",
      "strong multicollinearity or other numerical problems.\n"
     ]
    }
   ],
   "source": [
    "import statsmodels.api as sm\n",
    "\n",
    "# Mantenemos las variables seleccionadas por el metodo mixto\n",
    "x_train = x_train.drop(columns=[\"Acceleration_Weight\", \"Europa\", \"Asia\"])\n",
    "x_test = x_test.drop(columns=[\"Acceleration_Weight\", \"Europa\", \"Asia\"])\n",
    "\n",
    "# Entrenamos el modelo\n",
    "LinearMultipleModel = sm.OLS(y_train, sm.add_constant(x_train))\n",
    "LinearMultipleResults = LinearMultipleModel.fit()\n",
    "\n",
    "print(LinearMultipleResults.summary())"
   ]
  },
  {
   "cell_type": "markdown",
   "metadata": {},
   "source": [
    "Podemos observar que el modelo describe alrededor del 85.3% del comportamiento de la variable de nuestro interés y que existe una muy alta probabilidad de que al menos una de las variables esté relacionada con la variable de interés.   \n",
    "Podría afirmar que para todas las variables que utilizamos que existe al menos el 95% de confianza de que existe una relación con dicha variable y la variable de interés MPG.   \n",
    "Por cada unidad que aumenta el Displacement y las demás variables permanecen fijas se pierde un rendimiento de 0.0769 millas por galón.   \n",
    "Por cada unidad que aumenta el Weight y las demás variables permanecen fijas se pierde un rendimiento de 0.0117 millas por galón.   \n",
    "Por cada unidad que aumenta el Displacement_Weight y las demás variables permanecen fijas se pierde un rendimiento de 0.00002402 millas por galón.   \n",
    "Por cada unidad que aumenta la Acceleration y las demás variables permanecen fijas se gana un rendimiento de 0.2297 millas por galón.    \n",
    "Por cada año que es manuevo el Model_year y las demás variables permanecen fijas aumenta un rendimiento de 0.8345 millas por galón."
   ]
  },
  {
   "cell_type": "code",
   "execution_count": 11,
   "metadata": {},
   "outputs": [
    {
     "name": "stdout",
     "output_type": "stream",
     "text": [
      "Errores estándar (RSE) de los coeficientes:\n",
      "const                  4.005088\n",
      "Displacement           0.009478\n",
      "Weight                 0.000754\n",
      "Displacement_Weight    0.000002\n",
      "Acceleration           0.078663\n",
      "Model_year             0.049909\n",
      "dtype: float64\n",
      "\n",
      "Intervalos de confianza de los coeficientes:\n",
      "                             0         1\n",
      "const               -17.502130 -1.741140\n",
      "Displacement         -0.095569 -0.058272\n",
      "Weight               -0.013136 -0.010168\n",
      "Displacement_Weight   0.000019  0.000029\n",
      "Acceleration          0.074941  0.384499\n",
      "Model_year            0.736251  0.932654\n"
     ]
    }
   ],
   "source": [
    "# RSE (error estándar de los coeficientes)\n",
    "print(\"Errores estándar (RSE) de los coeficientes:\")\n",
    "print(LinearMultipleResults.bse)  # Devuelve los errores estándar de cada coeficiente\n",
    "\n",
    "# Intervalos de confianza de los coeficientes\n",
    "print(\"\\nIntervalos de confianza de los coeficientes:\")\n",
    "print(LinearMultipleResults.conf_int())  # Devuelve los intervalos de confianza de 95% para cada coeficiente"
   ]
  },
  {
   "cell_type": "markdown",
   "metadata": {},
   "source": [
    "Displacement: El error estándar de Displacement es 0.009478.   \n",
    "Weight: El error estándar de Weight es 0.000754.   \n",
    "Displacement_Weight: El error estándar de Displacement_Weight es 0.000022.   \n",
    "Acceleration: El error estándar de Acceleration es 0.078635.   \n",
    "Model_year: El error estándar de Model_year es 0.049909.    \n",
    "    \n",
    "Podemos decir con un 95% de confianza que por cada unidad que aumenta el Displacement, la cantidad de millas por galón se ve reducida entre 0.095569 y 0.058272.   \n",
    "Podemos decir con un 95% de confianza que por cada unidad que aumenta el Weight, la cantidad de millas por galón se ve reducida entre 0.013136 y 0.010618.   \n",
    "Podemos decir con un 95% de confianza que por cada unidad que aumenta Displacement_Weight, la cantidad de millas por galón se ve aumentada entre 0.000019 y 0.000020.    \n",
    "Podemos decir con un 95% de confianza que por cada unidad que aumenta la Acceleration, la cantidad de millas por galón se ve aumentada entre 0.074941 y 0.384499.   \n",
    "Podemos decir con un 95% de confianza que por cada unidad que aumenta el Model_year, la cantidad de millas por galón se ve aumentada entre 0.736251 y 0.932654.   "
   ]
  },
  {
   "cell_type": "markdown",
   "metadata": {},
   "source": [
    "Seguimos los procedimientos adecuados para obtener este tipo de resultados, revisamos los datos para encontrar huecos e inconsistencias, además evitamos la fuga de datos, y dividimos el data set para evitar el overfitting.    \n",
    "    \n",
    "Posteriormente calcularemos la R^2 con los datos de prueba."
   ]
  },
  {
   "cell_type": "code",
   "execution_count": 12,
   "metadata": {},
   "outputs": [
    {
     "name": "stdout",
     "output_type": "stream",
     "text": [
      "RSE de la regresión lineal multilple en datos de prueba = 3.0265474026174046\n",
      "R^2 de la regresión lineal multilple en datos de prueba = 0.8507668467072269\n"
     ]
    },
    {
     "data": {
      "image/png": "[encoded data removed]",
      "text/plain": [
       "<Figure size 640x480 with 1 Axes>"
      ]
     },
     "metadata": {},
     "output_type": "display_data"
    }
   ],
   "source": [
    "plt.scatter(x_train.Displacement_Weight,y_train)\n",
    "plt.xlabel(\"Displacement x Weight\")\n",
    "plt.ylabel(\"MPG\")\n",
    "\n",
    "yhat_Multiple = LinearMultipleResults.predict(sm.add_constant(x_test))\n",
    "\n",
    "# Calcula el RSS de validación\n",
    "RSSTest = sum((y_test-yhat_Multiple)**2)\n",
    "# Calcula el TSS de validación\n",
    "TSSTest = sum((y_test-np.mean(y_test))**2)\n",
    "# Define el valor de n para los datos de prueba\n",
    "nTest = x_test.shape[0]\n",
    "# Define el valor de m para los datos de prueba\n",
    "mTest = x_test.shape[1]\n",
    "# Calcula el RSE de validación\n",
    "RSETest = np.sqrt(RSSTest/(nTest-mTest-1))\n",
    "# Calcula el R^2 de validación\n",
    "R2Test = 1 - RSSTest/TSSTest\n",
    "# Imprime el RSE\n",
    "print(\"RSE de la regresión lineal multilple en datos de prueba =\", RSETest)\n",
    "# Imprime el R^2\n",
    "print(\"R^2 de la regresión lineal multilple en datos de prueba =\", R2Test)"
   ]
  },
  {
   "cell_type": "markdown",
   "metadata": {},
   "source": [
    "Podemos observar unos resultados bastante parecidos a los obtenidos en los datos de entrenamiento, lo que nos sugiere que nuestro modelo no es tan propenso al overfitting.  \n",
    "\n",
    "Ahora entrenaremos el modelo de regresión lineal simple."
   ]
  },
  {
   "cell_type": "code",
   "execution_count": 13,
   "metadata": {},
   "outputs": [
    {
     "name": "stdout",
     "output_type": "stream",
     "text": [
      "                            OLS Regression Results                            \n",
      "==============================================================================\n",
      "Dep. Variable:                    MPG   R-squared:                       0.620\n",
      "Model:                            OLS   Adj. R-squared:                  0.619\n",
      "Method:                 Least Squares   F-statistic:                     514.5\n",
      "Date:                Wed, 19 Feb 2025   Prob (F-statistic):           3.38e-68\n",
      "Time:                        23:05:20   Log-Likelihood:                -949.67\n",
      "No. Observations:                 317   AIC:                             1903.\n",
      "Df Residuals:                     315   BIC:                             1911.\n",
      "Df Model:                           1                                         \n",
      "Covariance Type:            nonrobust                                         \n",
      "=======================================================================================\n",
      "                          coef    std err          t      P>|t|      [0.025      0.975]\n",
      "---------------------------------------------------------------------------------------\n",
      "const                  31.6899      0.442     71.777      0.000      30.821      32.559\n",
      "Displacement_Weight -1.227e-05   5.41e-07    -22.682      0.000   -1.33e-05   -1.12e-05\n",
      "==============================================================================\n",
      "Omnibus:                       33.366   Durbin-Watson:                   2.079\n",
      "Prob(Omnibus):                  0.000   Jarque-Bera (JB):               41.481\n",
      "Skew:                           0.794   Prob(JB):                     9.83e-10\n",
      "Kurtosis:                       3.785   Cond. No.                     1.32e+06\n",
      "==============================================================================\n",
      "\n",
      "Notes:\n",
      "[1] Standard Errors assume that the covariance matrix of the errors is correctly specified.\n",
      "[2] The condition number is large, 1.32e+06. This might indicate that there are\n",
      "strong multicollinearity or other numerical problems.\n"
     ]
    },
    {
     "data": {
      "text/plain": [
       "<matplotlib.collections.PathCollection at 0x27675d2e770>"
      ]
     },
     "execution_count": 13,
     "metadata": {},
     "output_type": "execute_result"
    },
    {
     "data": {
      "image/png": "[encoded data removed]",
      "text/plain": [
       "<Figure size 640x480 with 1 Axes>"
      ]
     },
     "metadata": {},
     "output_type": "display_data"
    }
   ],
   "source": [
    "import statsmodels.api as sm\n",
    "\n",
    "#Entrenamos el modelo\n",
    "LinearModel = sm.OLS(y_train, sm.add_constant(x_train.Displacement_Weight))\n",
    "LinearResults = LinearModel.fit()\n",
    "\n",
    "print(LinearResults.summary())\n",
    "\n",
    "yhat_Lineal = LinearResults.predict(sm.add_constant(x_test.Displacement_Weight))\n",
    "\n",
    "#Graficamos el modelo\n",
    "plt.scatter(x_train.Displacement_Weight,y_train)\n",
    "plt.scatter(x_test.Displacement_Weight, yhat_Lineal)\n"
   ]
  },
  {
   "cell_type": "code",
   "execution_count": 14,
   "metadata": {},
   "outputs": [
    {
     "name": "stdout",
     "output_type": "stream",
     "text": [
      "\n",
      "RSE de la regresión lineal simple en datos de prueba: 4.609935991350929\n",
      "R^2 de la regresión lineal simple en datos de prueba: 0.6350586884144109\n"
     ]
    }
   ],
   "source": [
    "yhat_Lineal = LinearResults.predict(sm.add_constant(x_test[\"Displacement_Weight\"]))\n",
    "\n",
    "# Calcular la Suma de Cuadrados del Residuo (RSS)\n",
    "RSS_lineal = np.sum((y_test - yhat_Lineal) ** 2)  \n",
    "\n",
    "# Número de observaciones en el conjunto de prueba\n",
    "n_lineal = len(y_test)\n",
    "\n",
    "# Calcular el Error Estándar de la Regresión (RSE)\n",
    "RSE_lineal = np.sqrt(RSS_lineal / (n_lineal - 2))  \n",
    "\n",
    "# Calcular la Suma de Cuadrados Total (TSS)\n",
    "TSS_sqr = np.sum((y_test - np.mean(y_test)) ** 2)\n",
    "\n",
    "# Calcular el Coeficiente de Determinación (R²)\n",
    "R2_lineal = 1 - (RSS_lineal / TSS_sqr)\n",
    "\n",
    "# Imprimir resultados\n",
    "print(\"\\nRSE de la regresión lineal simple en datos de prueba:\", RSE_lineal)\n",
    "print(\"R^2 de la regresión lineal simple en datos de prueba:\", R2_lineal)"
   ]
  },
  {
   "cell_type": "markdown",
   "metadata": {},
   "source": [
    "\n",
    "Al observar el sumario de la regresión lineal simple nos podemos dar cuenta fácilmente de que el modelo describe el 62% del comportamiento de la variable de interés y podemos afirmar con un 95% de confianza que existe una relación entre la variable Displacement_Weight y la variable de interés MPG.\n",
    "\n",
    "Al observar el modelo nos damos cuenta de que sugiere que por cada unidad de Displacement_Weight, es decir cada que aumenta una unidad del producto de desplazamiento por el peso del vehículo la cantidad de millas por galón que un auto puede recorrer se ve reducido 0.00001227 millas.\n",
    "\n",
    "Podemos observar que se mantiene un R^2 bastante estable e incluso más alto que en los datos de entrenamiento, esto me sugiere que el sistema no está cerca del overfitting.\n",
    "\n",
    "Se utilizo el modelo lineal porque se sugirió este modelo, se siguieron los procedimientos estándar para escoger los mejores datos y se evitó la fuga de datos.\n",
    "\n"
   ]
  },
  {
   "cell_type": "markdown",
   "metadata": {},
   "source": [
    "Ahora generaremos una regresión cuadrática ya que es el modelo que creo que más se ajusta a la forma de la gráfica generada anteriormente."
   ]
  },
  {
   "cell_type": "code",
   "execution_count": 15,
   "metadata": {},
   "outputs": [
    {
     "name": "stdout",
     "output_type": "stream",
     "text": [
      "                            OLS Regression Results                            \n",
      "==============================================================================\n",
      "Dep. Variable:                      y   R-squared:                       0.692\n",
      "Model:                            OLS   Adj. R-squared:                  0.690\n",
      "Method:                 Least Squares   F-statistic:                     352.0\n",
      "Date:                Wed, 19 Feb 2025   Prob (F-statistic):           6.25e-81\n",
      "Time:                        23:05:20   Log-Likelihood:                -916.68\n",
      "No. Observations:                 317   AIC:                             1839.\n",
      "Df Residuals:                     314   BIC:                             1851.\n",
      "Df Model:                           2                                         \n",
      "Covariance Type:            nonrobust                                         \n",
      "==============================================================================\n",
      "                 coef    std err          t      P>|t|      [0.025      0.975]\n",
      "------------------------------------------------------------------------------\n",
      "0             35.8474      0.630     56.910      0.000      34.608      37.087\n",
      "1          -2.762e-05   1.87e-06    -14.804      0.000   -3.13e-05    -2.4e-05\n",
      "2           8.548e-12      1e-12      8.523      0.000    6.57e-12    1.05e-11\n",
      "==============================================================================\n",
      "Omnibus:                       41.056   Durbin-Watson:                   2.216\n",
      "Prob(Omnibus):                  0.000   Jarque-Bera (JB):               72.000\n",
      "Skew:                           0.745   Prob(JB):                     2.32e-16\n",
      "Kurtosis:                       4.797   Cond. No.                     2.94e+12\n",
      "==============================================================================\n",
      "\n",
      "Notes:\n",
      "[1] Standard Errors assume that the covariance matrix of the errors is correctly specified.\n",
      "[2] The condition number is large, 2.94e+12. This might indicate that there are\n",
      "strong multicollinearity or other numerical problems.\n"
     ]
    }
   ],
   "source": [
    "import statsmodels.api as sm\n",
    "\n",
    "#Los cambios son necesarios para que la función pueda usar los datos y compile el código.\n",
    "\n",
    "#Cambiamos la forma de los datos a un array más amplio\n",
    "xtemp_train = x_train.Displacement_Weight.values.reshape(-1,1)\n",
    "xtemp_test = x_test.Displacement_Weight.values.reshape(-1,1)\n",
    "\n",
    "from sklearn.preprocessing import PolynomialFeatures\n",
    "\n",
    "#Generamos polinomiales\n",
    "polyq_train = PolynomialFeatures(degree=2).fit(xtemp_train)\n",
    "polyq_test = PolynomialFeatures(degree=2).fit(xtemp_test)\n",
    "\n",
    "#Los tranformamos a un data frame\n",
    "xq_train = pd.DataFrame(polyq_train.transform(xtemp_train))\n",
    "xq_test = pd.DataFrame(polyq_test.transform(xtemp_test))\n",
    "\n",
    "#Entrenamos el modelo\n",
    "mq = sm.OLS(list(y_train),xq_train).fit()\n",
    "\n",
    "print(mq.summary())\n"
   ]
  },
  {
   "cell_type": "code",
   "execution_count": 16,
   "metadata": {},
   "outputs": [
    {
     "data": {
      "text/plain": [
       "<matplotlib.collections.PathCollection at 0x27675d2f310>"
      ]
     },
     "execution_count": 16,
     "metadata": {},
     "output_type": "execute_result"
    },
    {
     "data": {
      "image/png": "[encoded data removed]",
      "text/plain": [
       "<Figure size 640x480 with 1 Axes>"
      ]
     },
     "metadata": {},
     "output_type": "display_data"
    }
   ],
   "source": [
    "\n",
    "# Hacer predicciones en los datos de prueba\n",
    "yhat_sqr = mq.predict(xq_test)\n",
    "\n",
    "plt.scatter(x_train.Displacement_Weight,y_train)\n",
    "plt.scatter(x_test.Displacement_Weight, yhat_sqr)"
   ]
  },
  {
   "cell_type": "markdown",
   "metadata": {},
   "source": [
    "Nos podemos dar cuenta de que el modelo describe el 69% del comportamiento de la variable de interés, MPG.   \n",
    "Podemos observar que el valor p del estadístico F es extremadamente bajo lo que sugiere que al menos una de las variables contenidas en el modelo se relaciona con la variable de salida.  \n",
    "Podemos decir con el 95% de confianza de que el coeficiente lineal tiene relación con la variable de salida MPG.   \n",
    "Podemos decir con el 95% de confianza de que el coeficiente cuadrático tiene relación con la variable de salida MPG. \n",
    "Dichas afirmaciones se sustentan en el valor p de las betas.  \n"
   ]
  },
  {
   "cell_type": "code",
   "execution_count": 17,
   "metadata": {},
   "outputs": [
    {
     "name": "stdout",
     "output_type": "stream",
     "text": [
      "Errores estándar (RSE) de los coeficientes:\n",
      "0    6.299002e-01\n",
      "1    1.865804e-06\n",
      "2    1.003000e-12\n",
      "dtype: float64\n",
      "\n",
      "Intervalos de confianza de los coeficientes:\n",
      "              0             1\n",
      "0  3.460807e+01  3.708678e+01\n",
      "1 -3.129304e-05 -2.395092e-05\n",
      "2  6.574870e-12  1.052177e-11\n"
     ]
    }
   ],
   "source": [
    "# RSE (error estándar de los coeficientes)\n",
    "print(\"Errores estándar (RSE) de los coeficientes:\")\n",
    "print(mq.bse)  # Devuelve los errores estándar de cada coeficiente\n",
    "\n",
    "# Intervalos de confianza de los coeficientes\n",
    "print(\"\\nIntervalos de confianza de los coeficientes:\")\n",
    "print(mq.conf_int())  # Devuelve los intervalos de confianza de 95% para cada coeficiente"
   ]
  },
  {
   "cell_type": "markdown",
   "metadata": {},
   "source": [
    "Podemos decir con un 95% de confianza que por cada unidad del producto de las variables de Displacement y Weight las millas por galón que puede recorrer el auto se ven reducidas entre 0.0000239 y 0.0000312 millas.   \n",
    "Podemos decir con un 95% de confianza que por cada unidad cuadrática del producto de las variables de Displacement y Weight las millas por galón que puede recorrer el auto se ven aumentadas entre 6.574870e-12 y 1.052177e-11 millas.   \n"
   ]
  },
  {
   "cell_type": "code",
   "execution_count": 18,
   "metadata": {},
   "outputs": [
    {
     "name": "stdout",
     "output_type": "stream",
     "text": [
      "RSE de la regresión lineal simple en datos de prueba: 5.82520962731678\n",
      "R^2 de la regresión lineal simple en datos de prueba: 0.41728478862984\n"
     ]
    }
   ],
   "source": [
    "\n",
    "\n",
    "# Calcular la Suma de Cuadrados del Residuo (RSS)\n",
    "RSS_sqr = np.sum((y_test - yhat_sqr) ** 2)  \n",
    "\n",
    "# Número de observaciones en el conjunto de prueba\n",
    "n_sqr = len(y_test)\n",
    "\n",
    "# Calcular el Error Estándar de la Regresión (RSE)\n",
    "RSE_sqr = np.sqrt(RSS_sqr / (n_sqr - 2))  \n",
    "\n",
    "# Calcular la Suma de Cuadrados Total (TSS)\n",
    "TSS_sqr = np.sum((y_test - np.mean(y_test)) ** 2)\n",
    "\n",
    "# Calcular el Coeficiente de Determinación (R²)\n",
    "R2_sqr = 1 - (RSS_sqr / TSS_sqr)\n",
    "\n",
    "# Imprimir resultados\n",
    "print(\"RSE de la regresión lineal simple en datos de prueba:\", RSE_sqr)\n",
    "print(\"R^2 de la regresión lineal simple en datos de prueba:\", R2_sqr)"
   ]
  },
  {
   "cell_type": "markdown",
   "metadata": {},
   "source": [
    "Podemos observar que existe una diferencia bastante considerable en los R^2 del modelo del entrenamiento y el entrenamiento de prueba, lo que podría sugerir que nos acercamos a un overfitting."
   ]
  },
  {
   "cell_type": "markdown",
   "metadata": {},
   "source": [
    "Habiendo realizado nuestros modelos de predicción escogeremos el modelo de regresión lineal múltiple para realizar un análisis de inferencia, debido a que obtuvimos los mejores resultados, tanto en métricas de error, de comportamiento y de robustes en cuanto a overfitting. Para esto utilizaremos todo el data set, únicamente con las variables seleccionadas para entrenar el modelo."
   ]
  },
  {
   "cell_type": "code",
   "execution_count": 19,
   "metadata": {},
   "outputs": [
    {
     "name": "stdout",
     "output_type": "stream",
     "text": [
      "                            OLS Regression Results                            \n",
      "==============================================================================\n",
      "Dep. Variable:                    MPG   R-squared:                       0.856\n",
      "Model:                            OLS   Adj. R-squared:                  0.854\n",
      "Method:                 Least Squares   F-statistic:                     465.4\n",
      "Date:                Wed, 19 Feb 2025   Prob (F-statistic):          3.87e-162\n",
      "Time:                        23:05:21   Log-Likelihood:                -994.48\n",
      "No. Observations:                 397   AIC:                             2001.\n",
      "Df Residuals:                     391   BIC:                             2025.\n",
      "Df Model:                           5                                         \n",
      "Covariance Type:            nonrobust                                         \n",
      "=======================================================================================\n",
      "                          coef    std err          t      P>|t|      [0.025      0.975]\n",
      "---------------------------------------------------------------------------------------\n",
      "const                  -8.3358      3.599     -2.316      0.021     -15.412      -1.260\n",
      "Displacement           -0.0754      0.008     -9.080      0.000      -0.092      -0.059\n",
      "Weight                 -0.0115      0.001    -17.600      0.000      -0.013      -0.010\n",
      "Displacement_Weight  2.348e-05   2.06e-06     11.389      0.000    1.94e-05    2.75e-05\n",
      "Acceleration            0.1919      0.069      2.793      0.005       0.057       0.327\n",
      "Model_year              0.8177      0.044     18.398      0.000       0.730       0.905\n",
      "==============================================================================\n",
      "Omnibus:                       49.123   Durbin-Watson:                   2.229\n",
      "Prob(Omnibus):                  0.000   Jarque-Bera (JB):              104.158\n",
      "Skew:                           0.670   Prob(JB):                     2.41e-23\n",
      "Kurtosis:                       5.122   Cond. No.                     2.01e+07\n",
      "==============================================================================\n",
      "\n",
      "Notes:\n",
      "[1] Standard Errors assume that the covariance matrix of the errors is correctly specified.\n",
      "[2] The condition number is large, 2.01e+07. This might indicate that there are\n",
      "strong multicollinearity or other numerical problems.\n"
     ]
    }
   ],
   "source": [
    "# Concatenar X_train y X_test en un solo DataFrame\n",
    "x_total = pd.concat([x_train, x_test], axis=0).reset_index(drop=True)\n",
    "\n",
    "# Concatenar y_train y y_test en un solo DataFrame\n",
    "y_total = pd.concat([y_train, y_test], axis=0).reset_index(drop=True)\n",
    "\n",
    "# Entrenamos el modelo\n",
    "LMM_all = sm.OLS(y_total, sm.add_constant(x_total))\n",
    "LMM_all_results = LMM_all.fit()\n",
    "\n",
    "print(LMM_all_results.summary())\n"
   ]
  },
  {
   "cell_type": "markdown",
   "metadata": {},
   "source": [
    "Ahora podemos realizar afirmaciones con nuestro analisis de inferencia.\n",
    "\n",
    "Podemos observar que el modelo describe alrededor del 85.4% del comportamiento de la variable de nuestro interés y que existe una muy alta probabilidad de que al menos una de las variables esté relacionada con la variable de interés.   \n",
    "Podría afirmar que para todas las variables que utilizamos que existe al menos el 95% de confianza de que existe una relación con dicha variable y la variable de interés MPG.   \n",
    "Por cada unidad que aumenta el Displacement y las demás variables permanecen fijas se pierde un rendimiento de 0.0754 millas por galón.   \n",
    "Por cada unidad que aumenta el Weight y las demás variables permanecen fijas se pierde un rendimiento de 0.0115 millas por galón.   \n",
    "Por cada unidad que aumenta el Displacement_Weight y las demás variables permanecen fijas se pierde un rendimiento de 0.00002348 millas por galón.   \n",
    "Por cada unidad que aumenta la Acceleration y las demás variables permanecen fijas se gana un rendimiento de 0.1919 millas por galón.    \n",
    "Por cada año que es manuevo el Model_year y las demás variables permanecen fijas aumenta un rendimiento de 0.8177 millas por galón.    \n"
   ]
  },
  {
   "cell_type": "code",
   "execution_count": 20,
   "metadata": {},
   "outputs": [
    {
     "name": "stdout",
     "output_type": "stream",
     "text": [
      "Errores estándar (RSE) de los coeficientes:\n",
      "const                  3.598977\n",
      "Displacement           0.008308\n",
      "Weight                 0.000653\n",
      "Displacement_Weight    0.000002\n",
      "Acceleration           0.068726\n",
      "Model_year             0.044448\n",
      "dtype: float64\n",
      "\n",
      "Intervalos de confianza de los coeficientes:\n",
      "                             0         1\n",
      "const               -15.411542 -1.260005\n",
      "Displacement         -0.091779 -0.059109\n",
      "Weight               -0.012775 -0.010207\n",
      "Displacement_Weight   0.000019  0.000028\n",
      "Acceleration          0.056822  0.327060\n",
      "Model_year            0.730347  0.905121\n"
     ]
    }
   ],
   "source": [
    "# RSE (error estándar de los coeficientes)\n",
    "print(\"Errores estándar (RSE) de los coeficientes:\")\n",
    "print(LMM_all_results.bse)  # Devuelve los errores estándar de cada coeficiente\n",
    "\n",
    "# Intervalos de confianza de los coeficientes\n",
    "print(\"\\nIntervalos de confianza de los coeficientes:\")\n",
    "print(LMM_all_results.conf_int())  # Devuelve los intervalos de confianza de 95% para cada coeficiente\n"
   ]
  },
  {
   "cell_type": "markdown",
   "metadata": {},
   "source": [
    "Displacement: El error estándar de Displacement es 0.008308.   \n",
    "Weight: El error estándar de Weight es 0.000653.   \n",
    "Displacement_Weight: El error estándar de Displacement_Weight es 0.000002.   \n",
    "Acceleration: El error estándar de Acceleration es 0.068726.   \n",
    "Model_year: El error estándar de Model_year es 0.044448.    \n",
    "    \n",
    "Podemos decir con un 95% de confianza que por cada unidad que aumenta el Displacement, la cantidad de millas por galón se ve reducida entre 0.091779 y 0.059109.   \n",
    "Podemos decir con un 95% de confianza que por cada unidad que aumenta el Weight, la cantidad de millas por galón se ve reducida entre 0.012775 y 0.010207.   \n",
    "Podemos decir con un 95% de confianza que por cada unidad que aumenta Displacement_Weight, la cantidad de millas por galón se ve aumentada entre 0.000019 y 0.000028.    \n",
    "Podemos decir con un 95% de confianza que por cada unidad que aumenta la Acceleration, la cantidad de millas por galón se ve aumentada entre 0.056822 y 0.327060.   \n",
    "Podemos decir con un 95% de confianza que por cada unidad que aumenta el Model_year, la cantidad de millas por galón se ve aumentada entre 0.730347 y 0.905121.   \n",
    "\n",
    "\n",
    "Con esto damos por terminado el nuestro análisis, cumpliendo nuestro objetivo de obtener un modelo que sea capaz de predecir el MPG, la variable de interés, en este caso un error menor a 3.5 galones según nuestra validación en los datos de prueba y además hemos sido capaces de realizar inferencias sobre el data set.\n",
    "\n",
    "Agradezco al lector por su tiempo:\n",
    "-Armando Rdz\n"
   ]
  },
  {
   "cell_type": "markdown",
   "metadata": {},
   "source": [
    "Referencias:\n",
    "\n",
    "Quinlan, R. (1993). Auto MPG [Dataset]. UCI Machine Learning Repository. https://doi.org/10.24432/C5859H."
   ]
  }
 ],
 "metadata": {
  "kernelspec": {
   "display_name": "Python (mlinsights_env)",
   "language": "python",
   "name": "mlinsights_env"
  },
  "language_info": {
   "codemirror_mode": {
    "name": "ipython",
    "version": 3
   },
   "file_extension": ".py",
   "mimetype": "text/x-python",
   "name": "python",
   "nbconvert_exporter": "python",
   "pygments_lexer": "ipython3",
   "version": "3.10.16"
  }
 },
 "nbformat": 4,
 "nbformat_minor": 2
}
